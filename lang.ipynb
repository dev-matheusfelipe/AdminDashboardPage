{
  "nbformat": 4,
  "nbformat_minor": 0,
  "metadata": {
    "colab": {
      "provenance": [],
      "authorship_tag": "ABX9TyODG6C1pjSIlDK/F9GnJQXR",
      "include_colab_link": true
    },
    "kernelspec": {
      "name": "python3",
      "display_name": "Python 3"
    },
    "language_info": {
      "name": "python"
    }
  },
  "cells": [
    {
      "cell_type": "markdown",
      "metadata": {
        "id": "view-in-github",
        "colab_type": "text"
      },
      "source": [
        "<a href=\"https://colab.research.google.com/github/dev-matheusfelipe/AdminDashboardPage/blob/main/lang.ipynb\" target=\"_parent\"><img src=\"https://colab.research.google.com/assets/colab-badge.svg\" alt=\"Open In Colab\"/></a>"
      ]
    },
    {
      "cell_type": "markdown",
      "source": [
        "Identificação de idioma predominante em textos.\n",
        "\n",
        "Passo 1: Instalação das bibliotecas."
      ],
      "metadata": {
        "id": "MSuUnEzY6LB2"
      }
    },
    {
      "cell_type": "code",
      "source": [
        "!pip install langdetect"
      ],
      "metadata": {
        "colab": {
          "base_uri": "https://localhost:8080/"
        },
        "id": "1tyIy9Wm6NyW",
        "outputId": "b18639d5-07bd-4b76-98cc-50cb5ba10662"
      },
      "execution_count": 1,
      "outputs": [
        {
          "output_type": "stream",
          "name": "stdout",
          "text": [
            "Collecting langdetect\n",
            "  Downloading langdetect-1.0.9.tar.gz (981 kB)\n",
            "\u001b[?25l     \u001b[90m━━━━━━━━━━━━━━━━━━━━━━━━━━━━━━━━━━━━━━━━\u001b[0m \u001b[32m0.0/981.5 kB\u001b[0m \u001b[31m?\u001b[0m eta \u001b[36m-:--:--\u001b[0m\r\u001b[2K     \u001b[91m━━━━━━━━━━━━━━━━━━━━━━━━━━━━━━━━━━━━━\u001b[0m\u001b[91m╸\u001b[0m \u001b[32m972.8/981.5 kB\u001b[0m \u001b[31m37.2 MB/s\u001b[0m eta \u001b[36m0:00:01\u001b[0m\r\u001b[2K     \u001b[90m━━━━━━━━━━━━━━━━━━━━━━━━━━━━━━━━━━━━━━\u001b[0m \u001b[32m981.5/981.5 kB\u001b[0m \u001b[31m19.3 MB/s\u001b[0m eta \u001b[36m0:00:00\u001b[0m\n",
            "\u001b[?25h  Preparing metadata (setup.py) ... \u001b[?25l\u001b[?25hdone\n",
            "Requirement already satisfied: six in /usr/local/lib/python3.11/dist-packages (from langdetect) (1.17.0)\n",
            "Building wheels for collected packages: langdetect\n",
            "  Building wheel for langdetect (setup.py) ... \u001b[?25l\u001b[?25hdone\n",
            "  Created wheel for langdetect: filename=langdetect-1.0.9-py3-none-any.whl size=993223 sha256=7e1ae8d5767e1e4071d8a6fa74410b14b5d206dfce08a373d47e5004359234a6\n",
            "  Stored in directory: /root/.cache/pip/wheels/0a/f2/b2/e5ca405801e05eb7c8ed5b3b4bcf1fcabcd6272c167640072e\n",
            "Successfully built langdetect\n",
            "Installing collected packages: langdetect\n",
            "Successfully installed langdetect-1.0.9\n"
          ]
        }
      ]
    },
    {
      "cell_type": "markdown",
      "source": [
        "Passo 2: Definindo as frases, em diferentes\n",
        "idiomas, que serão analisadas."
      ],
      "metadata": {
        "id": "0Akjyx_L6aS2"
      }
    },
    {
      "cell_type": "code",
      "source": [
        "text = [\n",
        "    \"Wear masks, keep distance, wash hands, be safe in these difficult days.\",\n",
        "    \"Viseljen maszkot, tartson távolságot, mosson kezet, legyen biztonságban ezekben a nehéz napokban.\",\n",
        "    \"Deaths are increasing, be vigilent.\",\n",
        "    \"Носите маски, соблюдайте дистанцию, мойте руки, будьте осторожны в эти тяжелые дни.\",\n",
        "    \"Covid-19: Indians flock to vaccination centers as vaccines are now available for 60+ in India since the 1st of March.\",\n",
        "    \"Indossa maschere, mantieni le distanze, lavati le mani, sii al sicuro in questi giorni difficili.\",\n",
        "    \"Portez des masques, gardez vos distances, lavez-vous les mains, soyez en sécurité en ces jours difficiles.\",\n",
        "    \"Brug masker, hold afstand, vask hænder, vær sikker i disse vanskelige dage.\",\n",
        "    \"We are facing a global education crisis. No effort should be spared to safely bring every child back into the classroom.\",\n",
        "    \"Bruk masker, hold avstand, vask hendene, vær trygg i disse vanskelige dagene.\",\n",
        "    \"Portu maskojn, tenu distancon, lavu manojn, estu sekuraj en ĉi tiuj malfacilaj tagoj.\",\n",
        "    \"Tragen Sie Masken, halten Sie Abstand, waschen Sie Ihre Hände, seien Sie in diesen schwierigen Tagen sicher.\",\n",
        "    \"Носіть маски, тримайтеся на відстані, мийте руки, будьте в безпеці в ці важкі дні.\",\n",
        "    \"Lock down, working from home are the keys words for these days.\",\n",
        "    \"Lives have changed drastically across the planet and this period will forever be remembered as the beginning of something we have yet to witness.\",\n",
        "    \"Este é um exemplo de texto escrito em português.\"\n",
        "]\n"
      ],
      "metadata": {
        "id": "izZVpfvP6c-O"
      },
      "execution_count": 4,
      "outputs": []
    },
    {
      "cell_type": "markdown",
      "source": [
        "Passo 3: Recarragendo o ambiente\n",
        "python após a instalação da lib."
      ],
      "metadata": {
        "id": "2O1Th_bo6iBW"
      }
    },
    {
      "cell_type": "code",
      "source": [
        "import pkg_resources,imp\n",
        "\n",
        "imp.reload(pkg_resources)"
      ],
      "metadata": {
        "colab": {
          "base_uri": "https://localhost:8080/"
        },
        "id": "ipG1gN3C6y4m",
        "outputId": "2843b5ac-6a42-45d2-db92-7dd1c7b0de8c"
      },
      "execution_count": 5,
      "outputs": [
        {
          "output_type": "stream",
          "name": "stderr",
          "text": [
            "<ipython-input-5-65ce4e9120e8>:1: DeprecationWarning: pkg_resources is deprecated as an API. See https://setuptools.pypa.io/en/latest/pkg_resources.html\n",
            "  import pkg_resources,imp\n"
          ]
        },
        {
          "output_type": "execute_result",
          "data": {
            "text/plain": [
              "<module 'pkg_resources' from '/usr/local/lib/python3.11/dist-packages/pkg_resources/__init__.py'>"
            ]
          },
          "metadata": {},
          "execution_count": 5
        }
      ]
    },
    {
      "cell_type": "markdown",
      "source": [
        "Passo 4: Detectando a linguagem\n",
        "predominante na lista de frases."
      ],
      "metadata": {
        "id": "nvJp3TXP6272"
      }
    },
    {
      "cell_type": "code",
      "source": [
        "from langdetect import detect\n",
        "\n",
        "for x in text:\n",
        "\n",
        "    print ('Frase: ', x)\n",
        "\n",
        "    print ('Idioma: ', detect(x), '\\n\\n')"
      ],
      "metadata": {
        "colab": {
          "base_uri": "https://localhost:8080/"
        },
        "id": "p6SzzomO62v-",
        "outputId": "33ecfa47-a60f-4dd4-ff32-fdaeb3739626"
      },
      "execution_count": 6,
      "outputs": [
        {
          "output_type": "stream",
          "name": "stdout",
          "text": [
            "Frase:  Wear masks, keep distance, wash hands, be safe in these difficult days.\n",
            "Idioma:  en \n",
            "\n",
            "\n",
            "Frase:  Viseljen maszkot, tartson távolságot, mosson kezet, legyen biztonságban ezekben a nehéz napokban.\n",
            "Idioma:  hu \n",
            "\n",
            "\n",
            "Frase:  Deaths are increasing, be vigilent.\n",
            "Idioma:  en \n",
            "\n",
            "\n",
            "Frase:  Носите маски, соблюдайте дистанцию, мойте руки, будьте осторожны в эти тяжелые дни.\n",
            "Idioma:  ru \n",
            "\n",
            "\n",
            "Frase:  Covid-19: Indians flock to vaccination centers as vaccines are now available for 60+ in India since the 1st of March.\n",
            "Idioma:  en \n",
            "\n",
            "\n",
            "Frase:  Indossa maschere, mantieni le distanze, lavati le mani, sii al sicuro in questi giorni difficili.\n",
            "Idioma:  it \n",
            "\n",
            "\n",
            "Frase:  Portez des masques, gardez vos distances, lavez-vous les mains, soyez en sécurité en ces jours difficiles.\n",
            "Idioma:  fr \n",
            "\n",
            "\n",
            "Frase:  Brug masker, hold afstand, vask hænder, vær sikker i disse vanskelige dage.\n",
            "Idioma:  da \n",
            "\n",
            "\n",
            "Frase:  We are facing a global education crisis. No effort should be spared to safely bring every child back into the classroom.\n",
            "Idioma:  en \n",
            "\n",
            "\n",
            "Frase:  Bruk masker, hold avstand, vask hendene, vær trygg i disse vanskelige dagene.\n",
            "Idioma:  da \n",
            "\n",
            "\n",
            "Frase:  Portu maskojn, tenu distancon, lavu manojn, estu sekuraj en ĉi tiuj malfacilaj tagoj.\n",
            "Idioma:  hr \n",
            "\n",
            "\n",
            "Frase:  Tragen Sie Masken, halten Sie Abstand, waschen Sie Ihre Hände, seien Sie in diesen schwierigen Tagen sicher.\n",
            "Idioma:  de \n",
            "\n",
            "\n",
            "Frase:  Носіть маски, тримайтеся на відстані, мийте руки, будьте в безпеці в ці важкі дні.\n",
            "Idioma:  uk \n",
            "\n",
            "\n",
            "Frase:  Lock down, working from home are the keys words for these days.\n",
            "Idioma:  en \n",
            "\n",
            "\n",
            "Frase:  Lives have changed drastically across the planet and this period will forever be remembered as the beginning of something we have yet to witness.\n",
            "Idioma:  en \n",
            "\n",
            "\n",
            "Frase:  Este é um exemplo de texto escrito em português.\n",
            "Idioma:  pt \n",
            "\n",
            "\n"
          ]
        }
      ]
    }
  ]
}