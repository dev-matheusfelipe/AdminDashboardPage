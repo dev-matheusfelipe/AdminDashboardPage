{
 "cells": [
  {
   "cell_type": "markdown",
   "id": "8a82818f",
   "metadata": {},
   "source": [
    "# Análise de Sentimentos"
   ]
  },
  {
   "cell_type": "markdown",
   "id": "d2b132de",
   "metadata": {},
   "source": [
    "Este notebook realiza uma análise de sentimentos utilizando o modelo `spaCy` com o componente `SpacyTextBlob`."
   ]
  },
  {
   "cell_type": "markdown",
   "id": "5a05a68b",
   "metadata": {},
   "source": [
    "## Passo 1: Instalando as bibliotecas e recarregando o ambiente"
   ]
  },
  {
   "cell_type": "code",
   "execution_count": null,
   "id": "b8953194",
   "metadata": {},
   "outputs": [],
   "source": [
    "!pip install -U pip setuptools wheel\n",
    "!pip install -U spacy\n",
    "!python -m spacy download en_core_web_sm\n",
    "!pip install -U spacytextblob\n",
    "import pkg_resources, imp\n",
    "imp.reload(pkg_resources)\n"
   ]
  },
  {
   "cell_type": "markdown",
   "id": "944c6e7a",
   "metadata": {},
   "source": [
    "## Passo 2: Importando as bibliotecas para análise de sentimento"
   ]
  },
  {
   "cell_type": "code",
   "execution_count": null,
   "id": "68ca997f",
   "metadata": {},
   "outputs": [],
   "source": [
    "import spacy\n",
    "from spacytextblob.spacytextblob import SpacyTextBlob\n"
   ]
  },
  {
   "cell_type": "markdown",
   "id": "fd41c363",
   "metadata": {},
   "source": [
    "## Passo 3: Definindo o modelo e a pipeline a serem utilizadas na análise"
   ]
  },
  {
   "cell_type": "code",
   "execution_count": null,
   "id": "f12b6069",
   "metadata": {},
   "outputs": [],
   "source": [
    "nlp = spacy.load('en_core_web_sm')\n",
    "if 'spacytextblob' not in nlp.pipe_names:\n",
    "    nlp.add_pipe('spacytextblob')\n"
   ]
  },
  {
   "cell_type": "markdown",
   "id": "e3ed3cce",
   "metadata": {},
   "source": [
    "## Passo 4: Definindo o texto inicial a ser analisado para verificação/validação da biblioteca"
   ]
  },
  {
   "cell_type": "code",
   "execution_count": null,
   "id": "07875343",
   "metadata": {},
   "outputs": [],
   "source": [
    "user_input = 'This is a wonderful campsite. I loved the serenity and the birds chirping in the morning.'\n",
    "doc = nlp(user_input)\n"
   ]
  },
  {
   "cell_type": "markdown",
   "id": "724c2e7e",
   "metadata": {},
   "source": [
    "## Passo 5: Exibindo o resultado da primeira análise (um range entre -1 [avaliação negativa] e 1 [avaliação positiva])"
   ]
  },
  {
   "cell_type": "code",
   "execution_count": null,
   "id": "949406fd",
   "metadata": {},
   "outputs": [],
   "source": [
    "print(\"Polarity:\", doc._.polarity)\n",
    "print(\"Subjectivity:\", doc._.subjectivity)\n"
   ]
  },
  {
   "cell_type": "markdown",
   "id": "806e286a",
   "metadata": {},
   "source": [
    "## Passo 6: Definindo a lista de tweets a serem analisadas"
   ]
  },
  {
   "cell_type": "code",
   "execution_count": null,
   "id": "b29f0476",
   "metadata": {},
   "outputs": [],
   "source": [
    "tweets = [\n",
    "    \"Bayer Leverkusen goalkeeper Bernd Leno will not be going to Napoli...\",\n",
    "    \"Gary Speed v Blackburn at St James in 2001/02 anyone? #NUFC\",\n",
    "    \"@ChelseaFC Don't make him regret it and start him over Hoofiz\",\n",
    "    \"@LiverpoolFF He's a liar, made up. I've unfollowed him...\",\n",
    "    \"@Everton Didn't realise Kenwright is due to leave...\",\n",
    "    \"Report: Linked with #Everton and #Wolves...\",\n",
    "    \"@ManUtd @Glentoran @RangersFC & Hearts ????\",\n",
    "    \"@ChelseaFC What a fantastic signing worth every single penny\",\n",
    "    \"Pogba scores, Pogba assists. But tomorrow papers won't say it...\",\n",
    "    \"@ManCity What a genius. Pep taking winning mentality...\"\n",
    "]\n"
   ]
  },
  {
   "cell_type": "markdown",
   "id": "6990a523",
   "metadata": {},
   "source": [
    "## Passo 7: Analisando os tweets"
   ]
  },
  {
   "cell_type": "code",
   "execution_count": null,
   "id": "582d630c",
   "metadata": {},
   "outputs": [],
   "source": [
    "for item in tweets:\n",
    "    doc = nlp(item)\n",
    "    sentiment = {\n",
    "        'tweet': item,\n",
    "        'score': doc._.polarity,\n",
    "        'subjectivity': doc._.subjectivity\n",
    "    }\n",
    "    print(sentiment)\n"
   ]
  }
 ],
 "metadata": {},
 "nbformat": 4,
 "nbformat_minor": 5
}